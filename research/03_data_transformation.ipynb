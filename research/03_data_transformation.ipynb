{
 "cells": [
  {
   "cell_type": "code",
   "execution_count": 1,
   "metadata": {},
   "outputs": [],
   "source": [
    "import os"
   ]
  },
  {
   "cell_type": "code",
   "execution_count": 2,
   "metadata": {},
   "outputs": [
    {
     "data": {
      "text/plain": [
       "'d:\\\\Data Science\\\\Git-Upload-Projects\\\\End_to_End_winequality\\\\research'"
      ]
     },
     "execution_count": 2,
     "metadata": {},
     "output_type": "execute_result"
    }
   ],
   "source": [
    "%pwd"
   ]
  },
  {
   "cell_type": "code",
   "execution_count": 3,
   "metadata": {},
   "outputs": [],
   "source": [
    "os.chdir(\"../\")"
   ]
  },
  {
   "cell_type": "code",
   "execution_count": 4,
   "metadata": {},
   "outputs": [
    {
     "data": {
      "text/plain": [
       "'d:\\\\Data Science\\\\Git-Upload-Projects\\\\End_to_End_winequality'"
      ]
     },
     "execution_count": 4,
     "metadata": {},
     "output_type": "execute_result"
    }
   ],
   "source": [
    "%pwd"
   ]
  },
  {
   "cell_type": "code",
   "execution_count": 5,
   "metadata": {},
   "outputs": [],
   "source": [
    "from dataclasses import dataclass\n",
    "from pathlib import Path\n",
    "\n",
    "@dataclass(frozen=True)\n",
    "class DataTransformationConfig:\n",
    "    root_dir: Path\n",
    "    data_path: Path"
   ]
  },
  {
   "cell_type": "code",
   "execution_count": 6,
   "metadata": {},
   "outputs": [],
   "source": [
    "from winequality.constants import *\n",
    "from winequality.utils.common import read_yaml, create_directories"
   ]
  },
  {
   "cell_type": "code",
   "execution_count": 7,
   "metadata": {},
   "outputs": [],
   "source": [
    "class ConfigurationManager:\n",
    "     \n",
    "    def __init__(\n",
    "            self,\n",
    "            config_filepath = CONFIG_FILE_PATH,\n",
    "            params_filepath = PARAMS_FILE_PATH,\n",
    "            schemas_filepath = SCHEMA_FILE_PATH):\n",
    "        \n",
    "            self.config = read_yaml(config_filepath)\n",
    "            self.params = read_yaml(params_filepath)\n",
    "            self.schema = read_yaml(schemas_filepath)\n",
    "\n",
    "            create_directories([self.config.dataStore_root])\n",
    "        \n",
    "\n",
    "    def get_data_transformation_config(self) -> DataTransformationConfig:\n",
    "        config = self.config.data_transformation\n",
    "        \n",
    "        create_directories([config.root_dir])\n",
    "\n",
    "        data_transformation_config = DataTransformationConfig(\n",
    "            root_dir=config.root_dir,\n",
    "            data_path=config.data_path,\n",
    "           \n",
    "        )\n",
    "\n",
    "        return data_transformation_config"
   ]
  },
  {
   "cell_type": "code",
   "execution_count": 8,
   "metadata": {},
   "outputs": [],
   "source": [
    "import os\n",
    "from winequality.logging import logger\n",
    "from sklearn.model_selection import train_test_split\n",
    "\n",
    "import pandas as pd"
   ]
  },
  {
   "cell_type": "code",
   "execution_count": 9,
   "metadata": {},
   "outputs": [],
   "source": [
    "class DataTransformation:\n",
    "    def __init__(self, config: DataTransformationConfig):\n",
    "        self.config = config\n",
    "\n",
    "    def train_test_split_ratio(self):\n",
    "        df = pd.read_csv(self.config.data_path)\n",
    "\n",
    "        train, test = train_test_split(df)\n",
    "\n",
    "        train.to_csv(os.path.join(self.config.root_dir, \"train.csv\"), index = False)\n",
    "        test.to_csv(os.path.join(self.config.root_dir, \"test.csv\"), index = False)\n",
    "\n",
    "        logger.info(\"Split data into train and test\")\n",
    "        logger.info(train.shape)\n",
    "        logger.info(test.shape)\n",
    "        logger.info(train.head)"
   ]
  },
  {
   "cell_type": "code",
   "execution_count": 10,
   "metadata": {},
   "outputs": [
    {
     "name": "stdout",
     "output_type": "stream",
     "text": [
      "[2024-04-10 00:07:15,303: INFO: common: YAML file loaded successfully: config\\config.yaml]\n",
      "[2024-04-10 00:07:15,306: INFO: common: YAML file loaded successfully: params.yaml]\n",
      "[2024-04-10 00:07:15,310: INFO: common: YAML file loaded successfully: schema.yaml]\n",
      "[2024-04-10 00:07:15,312: INFO: common: Created directory at: dataStore]\n",
      "[2024-04-10 00:07:15,314: INFO: common: Created directory at: dataStore/data_transformation]\n"
     ]
    },
    {
     "name": "stdout",
     "output_type": "stream",
     "text": [
      "[2024-04-10 00:07:15,355: INFO: 3395035069: Split data into train and test]\n",
      "[2024-04-10 00:07:15,358: INFO: 3395035069: (1199, 12)]\n",
      "[2024-04-10 00:07:15,358: INFO: 3395035069: (400, 12)]\n",
      "[2024-04-10 00:07:15,359: INFO: 3395035069: <bound method NDFrame.head of       fixed acidity  volatile acidity  citric acid  residual sugar  chlorides  \\\n",
      "339            12.5             0.280         0.54             2.3      0.082   \n",
      "424             7.7             0.960         0.20             2.0      0.047   \n",
      "1083            8.7             0.420         0.45             2.4      0.072   \n",
      "1523            6.8             0.480         0.25             2.0      0.076   \n",
      "216             8.7             0.625         0.16             2.0      0.101   \n",
      "...             ...               ...          ...             ...        ...   \n",
      "1546            7.0             0.570         0.02             2.0      0.072   \n",
      "1076            9.9             0.320         0.56             2.0      0.073   \n",
      "437            11.1             0.450         0.73             3.2      0.066   \n",
      "1278            8.0             0.715         0.22             2.3      0.075   \n",
      "1009            9.6             0.500         0.36             2.8      0.116   \n",
      "\n",
      "      free sulfur dioxide  total sulfur dioxide  density    pH  sulphates  \\\n",
      "339                  12.0                  29.0  0.99970  3.11       1.36   \n",
      "424                  15.0                  60.0  0.99550  3.36       0.44   \n",
      "1083                 32.0                  59.0  0.99617  3.33       0.77   \n",
      "1523                 29.0                  61.0  0.99530  3.34       0.60   \n",
      "216                  13.0                  49.0  0.99620  3.14       0.57   \n",
      "...                   ...                   ...      ...   ...        ...   \n",
      "1546                 17.0                  26.0  0.99575  3.36       0.61   \n",
      "1076                  3.0                   8.0  0.99534  3.15       0.73   \n",
      "437                   6.0                  22.0  0.99860  3.17       0.66   \n",
      "1278                 13.0                  81.0  0.99688  3.24       0.54   \n",
      "1009                 26.0                  55.0  0.99722  3.18       0.68   \n",
      "\n",
      "      alcohol  quality  \n",
      "339       9.8        7  \n",
      "424      10.9        5  \n",
      "1083     12.0        6  \n",
      "1523     10.4        5  \n",
      "216      11.0        5  \n",
      "...       ...      ...  \n",
      "1546     10.2        5  \n",
      "1076     11.4        6  \n",
      "437      11.2        6  \n",
      "1278      9.5        6  \n",
      "1009     10.9        5  \n",
      "\n",
      "[1199 rows x 12 columns]>]\n"
     ]
    }
   ],
   "source": [
    "try:\n",
    "    config = ConfigurationManager()\n",
    "    data_transformation_config = config.get_data_transformation_config()\n",
    "    data_transformation = DataTransformation(config=data_transformation_config)\n",
    "    data_transformation.train_test_split_ratio()\n",
    "except Exception as e:\n",
    "    raise e"
   ]
  },
  {
   "cell_type": "code",
   "execution_count": null,
   "metadata": {},
   "outputs": [],
   "source": []
  },
  {
   "cell_type": "code",
   "execution_count": null,
   "metadata": {},
   "outputs": [],
   "source": []
  }
 ],
 "metadata": {
  "kernelspec": {
   "display_name": "Python 3",
   "language": "python",
   "name": "python3"
  },
  "language_info": {
   "codemirror_mode": {
    "name": "ipython",
    "version": 3
   },
   "file_extension": ".py",
   "mimetype": "text/x-python",
   "name": "python",
   "nbconvert_exporter": "python",
   "pygments_lexer": "ipython3",
   "version": "3.9.19"
  }
 },
 "nbformat": 4,
 "nbformat_minor": 2
}
