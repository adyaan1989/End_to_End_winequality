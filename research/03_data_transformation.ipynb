{
 "cells": [
  {
   "cell_type": "code",
   "execution_count": 1,
   "metadata": {},
   "outputs": [],
   "source": [
    "import os"
   ]
  },
  {
   "cell_type": "code",
   "execution_count": 2,
   "metadata": {},
   "outputs": [
    {
     "data": {
      "text/plain": [
       "'d:\\\\Data Science\\\\Git-Upload-Projects\\\\End_to_End_winequality\\\\research'"
      ]
     },
     "execution_count": 2,
     "metadata": {},
     "output_type": "execute_result"
    }
   ],
   "source": [
    "%pwd"
   ]
  },
  {
   "cell_type": "code",
   "execution_count": 3,
   "metadata": {},
   "outputs": [],
   "source": [
    "os.chdir(\"../\")"
   ]
  },
  {
   "cell_type": "code",
   "execution_count": 4,
   "metadata": {},
   "outputs": [
    {
     "data": {
      "text/plain": [
       "'d:\\\\Data Science\\\\Git-Upload-Projects\\\\End_to_End_winequality'"
      ]
     },
     "execution_count": 4,
     "metadata": {},
     "output_type": "execute_result"
    }
   ],
   "source": [
    "%pwd"
   ]
  },
  {
   "cell_type": "code",
   "execution_count": 5,
   "metadata": {},
   "outputs": [],
   "source": [
    "from dataclasses import dataclass\n",
    "from pathlib import Path\n",
    "\n",
    "@dataclass(frozen=True)\n",
    "class DataTransformationConfig:\n",
    "    root_dir: Path\n",
    "    data_path: Path"
   ]
  },
  {
   "cell_type": "code",
   "execution_count": 6,
   "metadata": {},
   "outputs": [],
   "source": [
    "from winequality.constants import *\n",
    "from winequality.utils.common import read_yaml, create_directories"
   ]
  },
  {
   "cell_type": "code",
   "execution_count": 7,
   "metadata": {},
   "outputs": [],
   "source": [
    "class ConfigurationManager:\n",
    "     \n",
    "    def __init__(\n",
    "            self,\n",
    "            config_filepath = CONFIG_FILE_PATH,\n",
    "            params_filepath = PARAMS_FILE_PATH,\n",
    "            schemas_filepath = SCHEMA_FILE_PATH):\n",
    "        \n",
    "            self.config = read_yaml(config_filepath)\n",
    "            self.params = read_yaml(params_filepath)\n",
    "            self.schema = read_yaml(schemas_filepath)\n",
    "\n",
    "            create_directories([self.config.dataStore_root])\n",
    "        \n",
    "\n",
    "    def get_data_transformation_config(self) -> DataTransformationConfig:\n",
    "        config = self.config.data_transformation\n",
    "        \n",
    "        create_directories([config.root_dir])\n",
    "\n",
    "        data_transformation_config = DataTransformationConfig(\n",
    "            root_dir=config.root_dir,\n",
    "            data_path=config.data_path,\n",
    "           \n",
    "        )\n",
    "\n",
    "        return data_transformation_config"
   ]
  },
  {
   "cell_type": "code",
   "execution_count": 8,
   "metadata": {},
   "outputs": [],
   "source": [
    "import os\n",
    "from winequality.logging import logger\n",
    "from sklearn.model_selection import train_test_split\n",
    "\n",
    "import pandas as pd"
   ]
  },
  {
   "cell_type": "code",
   "execution_count": 9,
   "metadata": {},
   "outputs": [],
   "source": [
    "class DataTransformation:\n",
    "    def __init__(self, config: DataTransformationConfig):\n",
    "        self.config = config\n",
    "\n",
    "    def train_test_split_ratio(self):\n",
    "        df = pd.read_csv(self.config.data_path)\n",
    "\n",
    "        train, test = train_test_split(df)\n",
    "\n",
    "        train.to_csv(os.path.join(self.config.root_dir, \"train.csv\"), index = False)\n",
    "        test.to_csv(os.path.join(self.config.root_dir, \"test.csv\"), index = False)\n",
    "\n",
    "        logger.info(\"Split data into train and test\")\n",
    "        logger.info(train.shape)\n",
    "        logger.info(test.shape)\n",
    "        logger.info(train.head)"
   ]
  },
  {
   "cell_type": "code",
   "execution_count": 10,
   "metadata": {},
   "outputs": [
    {
     "name": "stdout",
     "output_type": "stream",
     "text": [
      "[2023-12-08 22:53:25,820: INFO: common: YAML file loaded successfully: config\\config.yaml]\n",
      "[2023-12-08 22:53:25,836: INFO: common: YAML file loaded successfully: params.yaml]\n",
      "[2023-12-08 22:53:25,869: INFO: common: YAML file loaded successfully: schema.yaml]\n",
      "[2023-12-08 22:53:25,869: INFO: common: Created directory at: dataStore]\n",
      "[2023-12-08 22:53:25,869: INFO: common: Created directory at: dataStore/data_transformation]\n"
     ]
    },
    {
     "name": "stdout",
     "output_type": "stream",
     "text": [
      "[2023-12-08 22:53:25,967: INFO: 3395035069: Split data into train and test]\n",
      "[2023-12-08 22:53:25,967: INFO: 3395035069: (1199, 12)]\n",
      "[2023-12-08 22:53:25,967: INFO: 3395035069: (400, 12)]\n",
      "[2023-12-08 22:53:25,975: INFO: 3395035069: <bound method NDFrame.head of       fixed acidity  volatile acidity  citric acid  residual sugar  chlorides  \\\n",
      "347            13.8             0.490         0.67             3.0      0.093   \n",
      "800             7.2             0.610         0.08             4.0      0.082   \n",
      "1207            9.9             0.720         0.55             1.7      0.136   \n",
      "643             9.5             0.590         0.44             2.3      0.071   \n",
      "1126            5.8             0.290         0.26             1.7      0.063   \n",
      "...             ...               ...          ...             ...        ...   \n",
      "1165            8.5             0.440         0.50             1.9      0.369   \n",
      "554            15.5             0.645         0.49             4.2      0.095   \n",
      "369             9.4             0.270         0.53             2.4      0.074   \n",
      "537             8.1             0.825         0.24             2.1      0.084   \n",
      "373             7.4             0.550         0.22             2.2      0.106   \n",
      "\n",
      "      free sulfur dioxide  total sulfur dioxide  density    pH  sulphates  \\\n",
      "347                   6.0                  15.0  0.99860  3.02       0.93   \n",
      "800                  26.0                 108.0  0.99641  3.25       0.51   \n",
      "1207                 24.0                  52.0  0.99752  3.35       0.94   \n",
      "643                  21.0                  68.0  0.99920  3.46       0.63   \n",
      "1126                  3.0                  11.0  0.99150  3.39       0.54   \n",
      "...                   ...                   ...      ...   ...        ...   \n",
      "1165                 15.0                  38.0  0.99634  3.01       1.10   \n",
      "554                  10.0                  23.0  1.00315  2.92       0.74   \n",
      "369                   6.0                  18.0  0.99620  3.20       1.13   \n",
      "537                   5.0                  13.0  0.99720  3.37       0.77   \n",
      "373                  12.0                  72.0  0.99590  3.05       0.63   \n",
      "\n",
      "      alcohol  quality  \n",
      "347      12.0        6  \n",
      "800       9.4        5  \n",
      "1207     10.0        5  \n",
      "643       9.5        5  \n",
      "1126     13.5        6  \n",
      "...       ...      ...  \n",
      "1165      9.4        5  \n",
      "554      11.1        5  \n",
      "369      12.0        7  \n",
      "537      10.7        6  \n",
      "373       9.2        5  \n",
      "\n",
      "[1199 rows x 12 columns]>]\n"
     ]
    }
   ],
   "source": [
    "try:\n",
    "    config = ConfigurationManager()\n",
    "    data_transformation_config = config.get_data_transformation_config()\n",
    "    data_transformation = DataTransformation(config=data_transformation_config)\n",
    "    data_transformation.train_test_split_ratio()\n",
    "except Exception as e:\n",
    "    raise e"
   ]
  },
  {
   "cell_type": "code",
   "execution_count": null,
   "metadata": {},
   "outputs": [],
   "source": []
  },
  {
   "cell_type": "code",
   "execution_count": null,
   "metadata": {},
   "outputs": [],
   "source": []
  }
 ],
 "metadata": {
  "kernelspec": {
   "display_name": "Python 3",
   "language": "python",
   "name": "python3"
  },
  "language_info": {
   "codemirror_mode": {
    "name": "ipython",
    "version": 3
   },
   "file_extension": ".py",
   "mimetype": "text/x-python",
   "name": "python",
   "nbconvert_exporter": "python",
   "pygments_lexer": "ipython3",
   "version": "3.9.0"
  }
 },
 "nbformat": 4,
 "nbformat_minor": 2
}
